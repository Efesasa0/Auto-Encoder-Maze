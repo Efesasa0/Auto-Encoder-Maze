{
 "cells": [
  {
   "cell_type": "code",
   "execution_count": 23,
   "metadata": {},
   "outputs": [
    {
     "data": {
      "text/plain": [
       "<torch._C.Generator at 0x10703b550>"
      ]
     },
     "execution_count": 23,
     "metadata": {},
     "output_type": "execute_result"
    }
   ],
   "source": [
    "import random\n",
    "import torch\n",
    "import torchvision.transforms as T\n",
    "from PIL import Image\n",
    "import numpy as np \n",
    "import matplotlib as plt\n",
    "torch.manual_seed(1)"
   ]
  },
  {
   "cell_type": "code",
   "execution_count": 24,
   "metadata": {},
   "outputs": [],
   "source": [
    "def move(i,j,n,direction,step,t,v):\n",
    "    if direction==0 and j+step<=n-1:#right\n",
    "        for k in range(0,step):\n",
    "            j=j+1\n",
    "            t[i][j]=v \n",
    "    elif direction==1 and j-step>=0:#left\n",
    "        for k in range(0,step):\n",
    "            j=j-1\n",
    "            t[i][j]=v\n",
    "    elif direction==2 and i-step>=0:#up\n",
    "        for k in range(0,step):\n",
    "            i=i-1\n",
    "            t[i][j]=v\n",
    "    elif direction==3 and i+step<=n-1:#down\n",
    "        for k in range(0,step):\n",
    "            i=i+1\n",
    "            t[i][j]=v\n",
    "    return i,j\n",
    "    \n",
    "def inrange(i,j,direction,t):\n",
    "    if direction==0 and (t[i+1][j]==0 or t[i][j+1]==0 or t[i-1][j]==0):\n",
    "        return True\n",
    "    elif direction==1 and (t[i+1][j]==0 or t[i][j-1]==0 or t[i-1][j]==0):\n",
    "        return True\n",
    "    elif direction==2 and (t[i][j-1]==0 or t[i+1][j]==0 or t[i][j+1]==0):\n",
    "        return True\n",
    "    elif direction==3 and (t[i][j-1]==0 or t[i-1][j]==0 or t[i][j+1]==0):\n",
    "        return True\n",
    "    return False"
   ]
  },
  {
   "cell_type": "code",
   "execution_count": 37,
   "metadata": {},
   "outputs": [],
   "source": [
    "def generate_Solution(i,j,n,solution):    \n",
    "    #----------------------------------------\n",
    "    #Create the Solution First: 1 x n x n\n",
    "    #----------------------------------------\n",
    "    solution[i][j]=0\n",
    "    while (i!=0 or j!=n-1):\n",
    "        direction=random.choice([0,2])\n",
    "        step=random.choice([1,1,2,3])\n",
    "        i,j=move(i,j,n,direction,step,solution,0)\n",
    "    return solution\n",
    "\n",
    "def generate_Problem(i,j,n,problem):\n",
    "    #---------------------------------------------------\n",
    "    #Create the Problem Based on Solution: 1 x n x n\n",
    "    #---------------------------------------------------\n",
    "    branchcount=2#branchcount=random.randint(5,6)\n",
    "    branchcoords=random.sample(range(0, n-1,2),branchcount) #branchcoords=random.sample(range(5, n-5,2),branchcount)\n",
    "    for coord in branchcoords:\n",
    "        for y in range(n-1):\n",
    "            if problem[y][coord]==0:\n",
    "                i=y\n",
    "                j=coord\n",
    "                alternative=random.randint(0,1)#left up if 0, right down if 1\n",
    "                #start drawing line\n",
    "                while ((0<i and i<n-1 and j!=0) or (0<j and j<n-1 and i!=0)):\n",
    "                    if alternative==1:\n",
    "                        direction=random.choice([1,2])\n",
    "                    else:\n",
    "                        direction=random.choice([0,3])\n",
    "                    step=random.choice([1,1,2,3])\n",
    "                    i,j=move(i,j,n,direction,step,problem,0)\n",
    "                break\n",
    "    for coords in branchcoords:\n",
    "        for x in range(n-1):\n",
    "            if problem[coord][x]==0:\n",
    "                i=coord\n",
    "                j=x\n",
    "                alternative=random.randint(0,1)#left up if 0, right down if 1\n",
    "                #start drawing line\n",
    "                while ((0<i and i<n-1 and j!=0) or (0<j and j<n-1 and i!=0) and (not inrange(i,j,direction,problem))):\n",
    "                    if alternative==1:\n",
    "                        direction=random.choice([0,2])\n",
    "                    else:\n",
    "                        direction=random.choice([1,3])\n",
    "                    step=random.choice([1,1,2,3])\n",
    "                    i,j=move(i,j,n,direction,step,problem,0)\n",
    "                break\n",
    "    return problem"
   ]
  },
  {
   "attachments": {},
   "cell_type": "markdown",
   "metadata": {},
   "source": [
    "test\n"
   ]
  },
  {
   "cell_type": "markdown",
   "metadata": {},
   "source": []
  },
  {
   "cell_type": "code",
   "execution_count": 86,
   "metadata": {},
   "outputs": [
    {
     "name": "stdout",
     "output_type": "stream",
     "text": [
      "torch.Size([32, 32])\n",
      "tensor([[1., 1., 1.,  ..., 1., 1., 0.],\n",
      "        [1., 1., 1.,  ..., 1., 1., 0.],\n",
      "        [1., 1., 1.,  ..., 1., 1., 0.],\n",
      "        ...,\n",
      "        [0., 1., 1.,  ..., 1., 0., 1.],\n",
      "        [0., 1., 1.,  ..., 1., 0., 0.],\n",
      "        [0., 1., 1.,  ..., 1., 1., 0.]])\n",
      "tensor([[1., 1., 1.,  ..., 1., 1., 0.],\n",
      "        [1., 1., 1.,  ..., 1., 1., 0.],\n",
      "        [1., 1., 1.,  ..., 1., 1., 0.],\n",
      "        ...,\n",
      "        [0., 1., 1.,  ..., 1., 0., 1.],\n",
      "        [0., 1., 1.,  ..., 1., 0., 0.],\n",
      "        [0., 1., 1.,  ..., 1., 1., 0.]])\n",
      "tensor([[1., 1., 1.,  ..., 1., 1., 0.],\n",
      "        [1., 1., 1.,  ..., 1., 1., 0.],\n",
      "        [1., 1., 1.,  ..., 1., 1., 0.],\n",
      "        ...,\n",
      "        [0., 1., 1.,  ..., 1., 1., 1.],\n",
      "        [0., 1., 1.,  ..., 1., 1., 1.],\n",
      "        [0., 1., 1.,  ..., 1., 1., 1.]])\n",
      "torch.Size([32, 32])\n",
      "tensor([[1., 1., 1.,  ..., 1., 1., 0.],\n",
      "        [1., 1., 1.,  ..., 1., 1., 0.],\n",
      "        [1., 1., 1.,  ..., 1., 1., 0.],\n",
      "        ...,\n",
      "        [1., 1., 1.,  ..., 1., 1., 1.],\n",
      "        [0., 0., 0.,  ..., 1., 1., 1.],\n",
      "        [0., 1., 1.,  ..., 1., 1., 1.]])\n",
      "tensor([[1., 1., 1.,  ..., 1., 1., 0.],\n",
      "        [1., 1., 1.,  ..., 1., 1., 0.],\n",
      "        [1., 1., 1.,  ..., 1., 1., 0.],\n",
      "        ...,\n",
      "        [1., 1., 1.,  ..., 1., 1., 1.],\n",
      "        [0., 0., 0.,  ..., 1., 1., 1.],\n",
      "        [0., 1., 1.,  ..., 1., 1., 1.]])\n",
      "tensor([[1., 1., 1.,  ..., 1., 1., 0.],\n",
      "        [1., 1., 1.,  ..., 1., 1., 0.],\n",
      "        [1., 1., 1.,  ..., 1., 1., 0.],\n",
      "        ...,\n",
      "        [1., 1., 1.,  ..., 1., 1., 1.],\n",
      "        [0., 0., 0.,  ..., 1., 1., 1.],\n",
      "        [0., 1., 1.,  ..., 1., 1., 1.]])\n",
      "torch.Size([32, 32])\n",
      "tensor([[1., 1., 1.,  ..., 0., 0., 0.],\n",
      "        [1., 1., 1.,  ..., 1., 1., 0.],\n",
      "        [1., 1., 1.,  ..., 1., 1., 0.],\n",
      "        ...,\n",
      "        [0., 1., 1.,  ..., 1., 1., 1.],\n",
      "        [0., 1., 1.,  ..., 1., 1., 1.],\n",
      "        [0., 1., 1.,  ..., 1., 1., 1.]])\n",
      "tensor([[1., 1., 1.,  ..., 0., 0., 0.],\n",
      "        [1., 1., 1.,  ..., 1., 1., 0.],\n",
      "        [1., 1., 1.,  ..., 1., 1., 0.],\n",
      "        ...,\n",
      "        [0., 1., 1.,  ..., 1., 1., 1.],\n",
      "        [0., 1., 1.,  ..., 1., 1., 1.],\n",
      "        [0., 1., 1.,  ..., 1., 1., 1.]])\n",
      "tensor([[1., 1., 1.,  ..., 0., 0., 0.],\n",
      "        [1., 1., 1.,  ..., 1., 1., 1.],\n",
      "        [1., 1., 1.,  ..., 1., 1., 1.],\n",
      "        ...,\n",
      "        [0., 1., 1.,  ..., 1., 1., 1.],\n",
      "        [0., 1., 1.,  ..., 1., 1., 1.],\n",
      "        [0., 1., 1.,  ..., 1., 1., 1.]])\n"
     ]
    }
   ],
   "source": [
    "n=32\n",
    "m=3\n",
    "mazes = torch.zeros(m,1,n,n)\n",
    "sols = torch.zeros(m,1,n,n)\n",
    "for k in range(m):\n",
    "    solution = torch.ones(n,n)\n",
    "    problem = torch.ones(n,n)\n",
    "    i,j=n-1,0\n",
    "    solution=generate_Solution(i,j,n,solution)\n",
    "    i,j=n-1,0\n",
    "    problem=generate_Problem(i,j,n,solution.clone())\n",
    "\n",
    "    #print(solution.size())\n",
    "    print(problem.size())\n",
    "\n",
    "    print(problem)\n",
    "    mazes[k,0]=problem\n",
    "    sols[k,0]=solution\n",
    "    print(mazes[k,0])\n",
    "    print(sols[k,0])\n",
    "\n",
    "    transform=T.ToPILImage()\n",
    "    img=transform(mazes[k,0])\n",
    "    img.show(mazes[k,0])\n",
    "dataset = torch.utils.data.TensorDataset(mazes, sols)\n",
    "dataloader = torch.utils.data.DataLoader(dataset, batch_size=32, num_workers=0)\n"
   ]
  },
  {
   "cell_type": "code",
   "execution_count": null,
   "metadata": {},
   "outputs": [],
   "source": []
  }
 ],
 "metadata": {
  "kernelspec": {
   "display_name": "Python 3.8.15 ('torch-gpu')",
   "language": "python",
   "name": "python3"
  },
  "language_info": {
   "codemirror_mode": {
    "name": "ipython",
    "version": 3
   },
   "file_extension": ".py",
   "mimetype": "text/x-python",
   "name": "python",
   "nbconvert_exporter": "python",
   "pygments_lexer": "ipython3",
   "version": "3.8.15 (default, Nov 24 2022, 08:57:44) \n[Clang 14.0.6 ]"
  },
  "orig_nbformat": 4,
  "vscode": {
   "interpreter": {
    "hash": "491956b9afa745bf7280d65c241ec97c7dc17781bf4a8fd4fd52bdf9c510abc9"
   }
  }
 },
 "nbformat": 4,
 "nbformat_minor": 2
}
